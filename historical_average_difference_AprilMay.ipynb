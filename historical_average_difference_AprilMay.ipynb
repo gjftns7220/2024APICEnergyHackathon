{
 "cells": [
  {
   "cell_type": "code",
   "execution_count": 1,
   "id": "3611ff05",
   "metadata": {},
   "outputs": [],
   "source": [
    "import pandas as pd\n",
    "import numpy as np\n",
    "import json"
   ]
  },
  {
   "cell_type": "code",
   "execution_count": 2,
   "id": "225a4507",
   "metadata": {},
   "outputs": [],
   "source": [
    "AB_gas_production = pd.read_json(\"naturalgas.json\")"
   ]
  },
  {
   "cell_type": "code",
   "execution_count": 7,
   "id": "998be55a",
   "metadata": {},
   "outputs": [],
   "source": [
    "AB_gas_production = AB_gas_production[AB_gas_production['Date'].dt.year != 2023]"
   ]
  },
  {
   "cell_type": "code",
   "execution_count": 8,
   "id": "46132711",
   "metadata": {},
   "outputs": [
    {
     "data": {
      "text/html": [
       "<div>\n",
       "<style scoped>\n",
       "    .dataframe tbody tr th:only-of-type {\n",
       "        vertical-align: middle;\n",
       "    }\n",
       "\n",
       "    .dataframe tbody tr th {\n",
       "        vertical-align: top;\n",
       "    }\n",
       "\n",
       "    .dataframe thead th {\n",
       "        text-align: right;\n",
       "    }\n",
       "</style>\n",
       "<table border=\"1\" class=\"dataframe\">\n",
       "  <thead>\n",
       "    <tr style=\"text-align: right;\">\n",
       "      <th></th>\n",
       "      <th>Date</th>\n",
       "      <th>Type</th>\n",
       "      <th>Value</th>\n",
       "    </tr>\n",
       "  </thead>\n",
       "  <tbody>\n",
       "    <tr>\n",
       "      <th>0</th>\n",
       "      <td>2007-01-01</td>\n",
       "      <td>Natural Gas</td>\n",
       "      <td>11802035900</td>\n",
       "    </tr>\n",
       "    <tr>\n",
       "      <th>1</th>\n",
       "      <td>2007-02-01</td>\n",
       "      <td>Natural Gas</td>\n",
       "      <td>10625649100</td>\n",
       "    </tr>\n",
       "    <tr>\n",
       "      <th>2</th>\n",
       "      <td>2007-03-01</td>\n",
       "      <td>Natural Gas</td>\n",
       "      <td>11857260000</td>\n",
       "    </tr>\n",
       "    <tr>\n",
       "      <th>3</th>\n",
       "      <td>2007-04-01</td>\n",
       "      <td>Natural Gas</td>\n",
       "      <td>11494242300</td>\n",
       "    </tr>\n",
       "    <tr>\n",
       "      <th>4</th>\n",
       "      <td>2007-05-01</td>\n",
       "      <td>Natural Gas</td>\n",
       "      <td>11691035100</td>\n",
       "    </tr>\n",
       "    <tr>\n",
       "      <th>...</th>\n",
       "      <td>...</td>\n",
       "      <td>...</td>\n",
       "      <td>...</td>\n",
       "    </tr>\n",
       "    <tr>\n",
       "      <th>187</th>\n",
       "      <td>2022-08-01</td>\n",
       "      <td>Natural Gas</td>\n",
       "      <td>9465357600</td>\n",
       "    </tr>\n",
       "    <tr>\n",
       "      <th>188</th>\n",
       "      <td>2022-09-01</td>\n",
       "      <td>Natural Gas</td>\n",
       "      <td>9232505500</td>\n",
       "    </tr>\n",
       "    <tr>\n",
       "      <th>189</th>\n",
       "      <td>2022-10-01</td>\n",
       "      <td>Natural Gas</td>\n",
       "      <td>9596754600</td>\n",
       "    </tr>\n",
       "    <tr>\n",
       "      <th>190</th>\n",
       "      <td>2022-11-01</td>\n",
       "      <td>Natural Gas</td>\n",
       "      <td>9342720100</td>\n",
       "    </tr>\n",
       "    <tr>\n",
       "      <th>191</th>\n",
       "      <td>2022-12-01</td>\n",
       "      <td>Natural Gas</td>\n",
       "      <td>9406691699</td>\n",
       "    </tr>\n",
       "  </tbody>\n",
       "</table>\n",
       "<p>192 rows × 3 columns</p>\n",
       "</div>"
      ],
      "text/plain": [
       "          Date         Type        Value\n",
       "0   2007-01-01  Natural Gas  11802035900\n",
       "1   2007-02-01  Natural Gas  10625649100\n",
       "2   2007-03-01  Natural Gas  11857260000\n",
       "3   2007-04-01  Natural Gas  11494242300\n",
       "4   2007-05-01  Natural Gas  11691035100\n",
       "..         ...          ...          ...\n",
       "187 2022-08-01  Natural Gas   9465357600\n",
       "188 2022-09-01  Natural Gas   9232505500\n",
       "189 2022-10-01  Natural Gas   9596754600\n",
       "190 2022-11-01  Natural Gas   9342720100\n",
       "191 2022-12-01  Natural Gas   9406691699\n",
       "\n",
       "[192 rows x 3 columns]"
      ]
     },
     "execution_count": 8,
     "metadata": {},
     "output_type": "execute_result"
    }
   ],
   "source": [
    "AB_gas_production"
   ]
  },
  {
   "cell_type": "code",
   "execution_count": 9,
   "id": "76adff1b",
   "metadata": {},
   "outputs": [
    {
     "name": "stdout",
     "output_type": "stream",
     "text": [
      "    Year  Percent Difference\n",
      "0   2007            1.712099\n",
      "1   2008            0.695934\n",
      "2   2009           -0.426389\n",
      "3   2010            1.741986\n",
      "4   2011           -0.580780\n",
      "5   2012            1.371139\n",
      "6   2013            1.929625\n",
      "7   2014            0.391328\n",
      "8   2015           -0.883605\n",
      "9   2016           -0.612246\n",
      "10  2017            0.437367\n",
      "11  2018           -0.675769\n",
      "12  2019            0.683309\n",
      "13  2020            0.998260\n",
      "14  2021            1.485372\n",
      "15  2022            0.508109\n"
     ]
    },
    {
     "name": "stderr",
     "output_type": "stream",
     "text": [
      "C:\\Users\\winch\\AppData\\Local\\Temp\\ipykernel_4368\\100465555.py:3: SettingWithCopyWarning: \n",
      "A value is trying to be set on a copy of a slice from a DataFrame.\n",
      "Try using .loc[row_indexer,col_indexer] = value instead\n",
      "\n",
      "See the caveats in the documentation: https://pandas.pydata.org/pandas-docs/stable/user_guide/indexing.html#returning-a-view-versus-a-copy\n",
      "  df['Date'] = pd.to_datetime(df['Date'])\n",
      "C:\\Users\\winch\\AppData\\Local\\Temp\\ipykernel_4368\\100465555.py:6: SettingWithCopyWarning: \n",
      "A value is trying to be set on a copy of a slice from a DataFrame.\n",
      "Try using .loc[row_indexer,col_indexer] = value instead\n",
      "\n",
      "See the caveats in the documentation: https://pandas.pydata.org/pandas-docs/stable/user_guide/indexing.html#returning-a-view-versus-a-copy\n",
      "  df['Year'] = df['Date'].dt.year\n",
      "C:\\Users\\winch\\AppData\\Local\\Temp\\ipykernel_4368\\100465555.py:7: SettingWithCopyWarning: \n",
      "A value is trying to be set on a copy of a slice from a DataFrame.\n",
      "Try using .loc[row_indexer,col_indexer] = value instead\n",
      "\n",
      "See the caveats in the documentation: https://pandas.pydata.org/pandas-docs/stable/user_guide/indexing.html#returning-a-view-versus-a-copy\n",
      "  df['Month'] = df['Date'].dt.month\n"
     ]
    }
   ],
   "source": [
    "df = AB_gas_production\n",
    "\n",
    "df['Date'] = pd.to_datetime(df['Date'])\n",
    "\n",
    "\n",
    "df['Year'] = df['Date'].dt.year\n",
    "df['Month'] = df['Date'].dt.month\n",
    "\n",
    "\n",
    "percent_diffs = {}\n",
    "\n",
    "\n",
    "for year in df['Year'].unique():\n",
    "\n",
    "    april_may_df = df[(df['Year'] == year) & (df['Month'].isin([4, 5]))]\n",
    "    \n",
    "    if len(april_may_df) == 2:\n",
    "        april_value = april_may_df.iloc[0]['Value']\n",
    "        may_value = april_may_df.iloc[1]['Value']\n",
    "        \n",
    "        percent_diff = (may_value - april_value) / april_value * 100\n",
    "        percent_diffs[year] = percent_diff\n",
    "percent_diffs_df = pd.DataFrame(list(percent_diffs.items()), columns=['Year', 'Percent Difference'])\n",
    "\n",
    "print(percent_diffs_df)"
   ]
  },
  {
   "cell_type": "code",
   "execution_count": 10,
   "id": "b14ec01e",
   "metadata": {},
   "outputs": [
    {
     "data": {
      "text/plain": [
       "Year                  2014.500000\n",
       "Percent Difference       0.548484\n",
       "dtype: float64"
      ]
     },
     "execution_count": 10,
     "metadata": {},
     "output_type": "execute_result"
    }
   ],
   "source": [
    "percent_diffs_df.mean()"
   ]
  },
  {
   "cell_type": "code",
   "execution_count": null,
   "id": "e7adba2c",
   "metadata": {},
   "outputs": [],
   "source": []
  }
 ],
 "metadata": {
  "kernelspec": {
   "display_name": "Python 3 (ipykernel)",
   "language": "python",
   "name": "python3"
  },
  "language_info": {
   "codemirror_mode": {
    "name": "ipython",
    "version": 3
   },
   "file_extension": ".py",
   "mimetype": "text/x-python",
   "name": "python",
   "nbconvert_exporter": "python",
   "pygments_lexer": "ipython3",
   "version": "3.10.4"
  }
 },
 "nbformat": 4,
 "nbformat_minor": 5
}
