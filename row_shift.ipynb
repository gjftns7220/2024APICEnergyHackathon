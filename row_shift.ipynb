{
 "cells": [
  {
   "cell_type": "code",
   "execution_count": 1,
   "metadata": {},
   "outputs": [],
   "source": [
    "import pandas as pd\n",
    "\n",
    "data_path = 'final_merged_base_alberta_wildfire_with_gas_and_pipes_summary.csv'\n",
    "df = pd.read_csv(data_path)\n",
    "\n",
    "df['Year'] = pd.to_datetime(df['Month']).dt.year\n",
    "df['Month'] = pd.to_datetime(df['Month']).dt.month\n",
    "\n",
    "columns_to_shift = [\n",
    "    'Affected_Plants_Count',\n",
    "    'Gas Plant Frac',\n",
    "    'Gas Plant Sweet',\n",
    "    'Gp Acid Gas Flaring',\n",
    "    'Gp Acid Gas Flaring%',\n",
    "    'Gp Acid Gas Inj',\n",
    "    'Gp Mainline Strdle',\n",
    "    'Gp Sulphur Rcvry',\n",
    "    'Avg Capacity (1000 m3/d)'\n",
    "]\n",
    "\n",
    "\n",
    "for column in columns_to_shift:\n",
    "    df[column] = df[column].shift(1)\n",
    "df = df.drop(df.index[0])\n",
    "\n",
    "for feature in df.columns:\n",
    "    if df[feature].dtype == object: \n",
    "        df[feature] = df[feature].str.replace(',', '').astype(float)\n",
    "\n",
    "\n",
    "df.to_csv('shifted_final_merged_base_alberta_wildfire_with_gas_and_pipes_summary.csv', index=False)\n"
   ]
  }
 ],
 "metadata": {
  "kernelspec": {
   "display_name": "Python 3",
   "language": "python",
   "name": "python3"
  },
  "language_info": {
   "codemirror_mode": {
    "name": "ipython",
    "version": 3
   },
   "file_extension": ".py",
   "mimetype": "text/x-python",
   "name": "python",
   "nbconvert_exporter": "python",
   "pygments_lexer": "ipython3",
   "version": "3.10.10"
  }
 },
 "nbformat": 4,
 "nbformat_minor": 2
}
