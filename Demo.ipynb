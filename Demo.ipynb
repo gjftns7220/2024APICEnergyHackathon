{
 "cells": [
  {
   "cell_type": "code",
   "execution_count": 1,
   "metadata": {},
   "outputs": [],
   "source": [
    "import pandas as pd\n",
    "\n",
    "# Load the CSV file into a DataFrame\n",
    "df = pd.read_csv('alberta_active_national_fires (3).csv')\n",
    "\n",
    "# Preprocess \"Fire Size\", \"Latitude\", and \"Longitude\" columns\n",
    "df['Fire Size'] = pd.to_numeric(df['Fire Size'].str.replace(',', ''), errors='coerce')\n",
    "df['Latitude'] = pd.to_numeric(df['Latitude'], errors='coerce')\n",
    "df['Longitude'] = pd.to_numeric(df['Longitude'], errors='coerce')\n",
    "\n",
    "# Classify \"Fire Size\" into classes\n",
    "def classify_fire_size(size):\n",
    "    if size <= 0.1: return 'A'\n",
    "    elif size <= 4.0: return 'B'\n",
    "    elif size <= 40.0: return 'C'\n",
    "    elif size <= 200.0: return 'D'\n",
    "    elif size > 200.0: return 'E'\n",
    "    return 'Unknown'\n",
    "\n",
    "df['Class'] = df['Fire Size'].apply(classify_fire_size)\n",
    "\n",
    "# Add a new column '2024.Feb' marked as 1 for all rows\n",
    "df['2024.Feb'] = 1\n",
    "\n",
    "# Export the modified DataFrame to a .csv file\n",
    "df.to_csv('modified_alberta_active_national_fires.csv', index=False)\n"
   ]
  }
 ],
 "metadata": {
  "kernelspec": {
   "display_name": "Python 3",
   "language": "python",
   "name": "python3"
  },
  "language_info": {
   "codemirror_mode": {
    "name": "ipython",
    "version": 3
   },
   "file_extension": ".py",
   "mimetype": "text/x-python",
   "name": "python",
   "nbconvert_exporter": "python",
   "pygments_lexer": "ipython3",
   "version": "3.10.10"
  }
 },
 "nbformat": 4,
 "nbformat_minor": 2
}
